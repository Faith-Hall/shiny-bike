{
 "cells": [
  {
   "cell_type": "code",
   "execution_count": 48,
   "metadata": {},
   "outputs": [
    {
     "name": "stdout",
     "output_type": "stream",
     "text": [
      "Requirement already satisfied: shiny in c:\\users\\13202\\anaconda3\\envs\\dev\\lib\\site-packages (0.9.0)\n",
      "Requirement already satisfied: typing-extensions>=4.0.1 in c:\\users\\13202\\anaconda3\\envs\\dev\\lib\\site-packages (from shiny) (4.6.3)\n",
      "Requirement already satisfied: starlette in c:\\users\\13202\\anaconda3\\envs\\dev\\lib\\site-packages (from shiny) (0.37.2)\n",
      "Requirement already satisfied: websockets>=10.0 in c:\\users\\13202\\anaconda3\\envs\\dev\\lib\\site-packages (from shiny) (12.0)\n",
      "Requirement already satisfied: python-multipart in c:\\users\\13202\\anaconda3\\envs\\dev\\lib\\site-packages (from shiny) (0.0.9)\n",
      "Requirement already satisfied: htmltools>=0.5.1 in c:\\users\\13202\\anaconda3\\envs\\dev\\lib\\site-packages (from shiny) (0.5.1)\n",
      "Requirement already satisfied: markdown-it-py>=1.1.0 in c:\\users\\13202\\anaconda3\\envs\\dev\\lib\\site-packages (from shiny) (2.2.0)\n",
      "Requirement already satisfied: mdit-py-plugins>=0.3.0 in c:\\users\\13202\\anaconda3\\envs\\dev\\lib\\site-packages (from shiny) (0.3.0)\n",
      "Requirement already satisfied: linkify-it-py>=1.0 in c:\\users\\13202\\anaconda3\\envs\\dev\\lib\\site-packages (from shiny) (2.0.0)\n",
      "Requirement already satisfied: appdirs>=1.4.4 in c:\\users\\13202\\anaconda3\\envs\\dev\\lib\\site-packages (from shiny) (1.4.4)\n",
      "Requirement already satisfied: asgiref>=3.5.2 in c:\\users\\13202\\anaconda3\\envs\\dev\\lib\\site-packages (from shiny) (3.8.1)\n",
      "Requirement already satisfied: packaging>=20.9 in c:\\users\\13202\\anaconda3\\envs\\dev\\lib\\site-packages (from shiny) (23.0)\n",
      "Requirement already satisfied: uvicorn>=0.16.0 in c:\\users\\13202\\anaconda3\\envs\\dev\\lib\\site-packages (from shiny) (0.29.0)\n",
      "Requirement already satisfied: click>=8.1.4 in c:\\users\\13202\\anaconda3\\envs\\dev\\lib\\site-packages (from shiny) (8.1.7)\n",
      "Requirement already satisfied: watchfiles>=0.18.0 in c:\\users\\13202\\anaconda3\\envs\\dev\\lib\\site-packages (from shiny) (0.21.0)\n",
      "Requirement already satisfied: questionary>=2.0.0 in c:\\users\\13202\\anaconda3\\envs\\dev\\lib\\site-packages (from shiny) (2.0.1)\n",
      "Requirement already satisfied: colorama in c:\\users\\13202\\anaconda3\\envs\\dev\\lib\\site-packages (from click>=8.1.4->shiny) (0.4.6)\n",
      "Requirement already satisfied: uc-micro-py in c:\\users\\13202\\anaconda3\\envs\\dev\\lib\\site-packages (from linkify-it-py>=1.0->shiny) (1.0.1)\n",
      "Requirement already satisfied: mdurl~=0.1 in c:\\users\\13202\\anaconda3\\envs\\dev\\lib\\site-packages (from markdown-it-py>=1.1.0->shiny) (0.1.0)\n",
      "Requirement already satisfied: prompt_toolkit<=3.0.36,>=2.0 in c:\\users\\13202\\anaconda3\\envs\\dev\\lib\\site-packages (from questionary>=2.0.0->shiny) (3.0.36)\n",
      "Requirement already satisfied: h11>=0.8 in c:\\users\\13202\\anaconda3\\envs\\dev\\lib\\site-packages (from uvicorn>=0.16.0->shiny) (0.14.0)\n",
      "Requirement already satisfied: anyio>=3.0.0 in c:\\users\\13202\\anaconda3\\envs\\dev\\lib\\site-packages (from watchfiles>=0.18.0->shiny) (3.5.0)\n",
      "Requirement already satisfied: idna>=2.8 in c:\\users\\13202\\anaconda3\\envs\\dev\\lib\\site-packages (from anyio>=3.0.0->watchfiles>=0.18.0->shiny) (3.4)\n",
      "Requirement already satisfied: sniffio>=1.1 in c:\\users\\13202\\anaconda3\\envs\\dev\\lib\\site-packages (from anyio>=3.0.0->watchfiles>=0.18.0->shiny) (1.2.0)\n",
      "Requirement already satisfied: wcwidth in c:\\users\\13202\\anaconda3\\envs\\dev\\lib\\site-packages (from prompt_toolkit<=3.0.36,>=2.0->questionary>=2.0.0->shiny) (0.2.5)\n",
      "Note: you may need to restart the kernel to use updated packages.\n"
     ]
    }
   ],
   "source": [
    "%pip install shiny"
   ]
  },
  {
   "cell_type": "code",
   "execution_count": 49,
   "metadata": {},
   "outputs": [
    {
     "name": "stdout",
     "output_type": "stream",
     "text": [
      "Requirement already satisfied: shinywidgets in c:\\users\\13202\\anaconda3\\envs\\dev\\lib\\site-packages (0.3.2)Note: you may need to restart the kernel to use updated packages.\n",
      "\n",
      "Requirement already satisfied: ipywidgets>=7.6.5 in c:\\users\\13202\\anaconda3\\envs\\dev\\lib\\site-packages (from shinywidgets) (8.0.4)\n",
      "Requirement already satisfied: jupyter-core in c:\\users\\13202\\anaconda3\\envs\\dev\\lib\\site-packages (from shinywidgets) (5.3.0)\n",
      "Requirement already satisfied: shiny>=0.6.1.9005 in c:\\users\\13202\\anaconda3\\envs\\dev\\lib\\site-packages (from shinywidgets) (0.9.0)\n",
      "Requirement already satisfied: python-dateutil>=2.8.2 in c:\\users\\13202\\anaconda3\\envs\\dev\\lib\\site-packages (from shinywidgets) (2.8.2)\n",
      "Requirement already satisfied: ipykernel>=4.5.1 in c:\\users\\13202\\anaconda3\\envs\\dev\\lib\\site-packages (from ipywidgets>=7.6.5->shinywidgets) (6.19.2)\n",
      "Requirement already satisfied: ipython>=6.1.0 in c:\\users\\13202\\anaconda3\\envs\\dev\\lib\\site-packages (from ipywidgets>=7.6.5->shinywidgets) (8.12.0)\n",
      "Requirement already satisfied: traitlets>=4.3.1 in c:\\users\\13202\\anaconda3\\envs\\dev\\lib\\site-packages (from ipywidgets>=7.6.5->shinywidgets) (5.7.1)\n",
      "Requirement already satisfied: widgetsnbextension~=4.0 in c:\\users\\13202\\anaconda3\\envs\\dev\\lib\\site-packages (from ipywidgets>=7.6.5->shinywidgets) (4.0.5)\n",
      "Requirement already satisfied: jupyterlab-widgets~=3.0 in c:\\users\\13202\\anaconda3\\envs\\dev\\lib\\site-packages (from ipywidgets>=7.6.5->shinywidgets) (3.0.5)\n",
      "Requirement already satisfied: six>=1.5 in c:\\users\\13202\\anaconda3\\envs\\dev\\lib\\site-packages (from python-dateutil>=2.8.2->shinywidgets) (1.16.0)\n",
      "Requirement already satisfied: typing-extensions>=4.0.1 in c:\\users\\13202\\anaconda3\\envs\\dev\\lib\\site-packages (from shiny>=0.6.1.9005->shinywidgets) (4.6.3)\n",
      "Requirement already satisfied: starlette in c:\\users\\13202\\anaconda3\\envs\\dev\\lib\\site-packages (from shiny>=0.6.1.9005->shinywidgets) (0.37.2)\n",
      "Requirement already satisfied: websockets>=10.0 in c:\\users\\13202\\anaconda3\\envs\\dev\\lib\\site-packages (from shiny>=0.6.1.9005->shinywidgets) (12.0)\n",
      "Requirement already satisfied: python-multipart in c:\\users\\13202\\anaconda3\\envs\\dev\\lib\\site-packages (from shiny>=0.6.1.9005->shinywidgets) (0.0.9)\n",
      "Requirement already satisfied: htmltools>=0.5.1 in c:\\users\\13202\\anaconda3\\envs\\dev\\lib\\site-packages (from shiny>=0.6.1.9005->shinywidgets) (0.5.1)\n",
      "Requirement already satisfied: markdown-it-py>=1.1.0 in c:\\users\\13202\\anaconda3\\envs\\dev\\lib\\site-packages (from shiny>=0.6.1.9005->shinywidgets) (2.2.0)\n",
      "Requirement already satisfied: mdit-py-plugins>=0.3.0 in c:\\users\\13202\\anaconda3\\envs\\dev\\lib\\site-packages (from shiny>=0.6.1.9005->shinywidgets) (0.3.0)\n",
      "Requirement already satisfied: linkify-it-py>=1.0 in c:\\users\\13202\\anaconda3\\envs\\dev\\lib\\site-packages (from shiny>=0.6.1.9005->shinywidgets) (2.0.0)\n",
      "Requirement already satisfied: appdirs>=1.4.4 in c:\\users\\13202\\anaconda3\\envs\\dev\\lib\\site-packages (from shiny>=0.6.1.9005->shinywidgets) (1.4.4)\n",
      "Requirement already satisfied: asgiref>=3.5.2 in c:\\users\\13202\\anaconda3\\envs\\dev\\lib\\site-packages (from shiny>=0.6.1.9005->shinywidgets) (3.8.1)\n",
      "Requirement already satisfied: packaging>=20.9 in c:\\users\\13202\\anaconda3\\envs\\dev\\lib\\site-packages (from shiny>=0.6.1.9005->shinywidgets) (23.0)\n",
      "Requirement already satisfied: uvicorn>=0.16.0 in c:\\users\\13202\\anaconda3\\envs\\dev\\lib\\site-packages (from shiny>=0.6.1.9005->shinywidgets) (0.29.0)\n",
      "Requirement already satisfied: click>=8.1.4 in c:\\users\\13202\\anaconda3\\envs\\dev\\lib\\site-packages (from shiny>=0.6.1.9005->shinywidgets) (8.1.7)\n",
      "Requirement already satisfied: watchfiles>=0.18.0 in c:\\users\\13202\\anaconda3\\envs\\dev\\lib\\site-packages (from shiny>=0.6.1.9005->shinywidgets) (0.21.0)\n",
      "Requirement already satisfied: questionary>=2.0.0 in c:\\users\\13202\\anaconda3\\envs\\dev\\lib\\site-packages (from shiny>=0.6.1.9005->shinywidgets) (2.0.1)\n",
      "Requirement already satisfied: platformdirs>=2.5 in c:\\users\\13202\\anaconda3\\envs\\dev\\lib\\site-packages (from jupyter-core->shinywidgets) (2.5.2)\n",
      "Requirement already satisfied: pywin32>=300 in c:\\users\\13202\\anaconda3\\envs\\dev\\lib\\site-packages (from jupyter-core->shinywidgets) (305.1)\n",
      "Requirement already satisfied: colorama in c:\\users\\13202\\anaconda3\\envs\\dev\\lib\\site-packages (from click>=8.1.4->shiny>=0.6.1.9005->shinywidgets) (0.4.6)\n",
      "Requirement already satisfied: comm>=0.1.1 in c:\\users\\13202\\anaconda3\\envs\\dev\\lib\\site-packages (from ipykernel>=4.5.1->ipywidgets>=7.6.5->shinywidgets) (0.1.2)\n",
      "Requirement already satisfied: debugpy>=1.0 in c:\\users\\13202\\anaconda3\\envs\\dev\\lib\\site-packages (from ipykernel>=4.5.1->ipywidgets>=7.6.5->shinywidgets) (1.5.1)\n",
      "Requirement already satisfied: jupyter-client>=6.1.12 in c:\\users\\13202\\anaconda3\\envs\\dev\\lib\\site-packages (from ipykernel>=4.5.1->ipywidgets>=7.6.5->shinywidgets) (7.4.9)\n",
      "Requirement already satisfied: matplotlib-inline>=0.1 in c:\\users\\13202\\anaconda3\\envs\\dev\\lib\\site-packages (from ipykernel>=4.5.1->ipywidgets>=7.6.5->shinywidgets) (0.1.6)\n",
      "Requirement already satisfied: nest-asyncio in c:\\users\\13202\\anaconda3\\envs\\dev\\lib\\site-packages (from ipykernel>=4.5.1->ipywidgets>=7.6.5->shinywidgets) (1.5.6)\n",
      "Requirement already satisfied: psutil in c:\\users\\13202\\anaconda3\\envs\\dev\\lib\\site-packages (from ipykernel>=4.5.1->ipywidgets>=7.6.5->shinywidgets) (5.9.0)\n",
      "Requirement already satisfied: pyzmq>=17 in c:\\users\\13202\\anaconda3\\envs\\dev\\lib\\site-packages (from ipykernel>=4.5.1->ipywidgets>=7.6.5->shinywidgets) (23.2.0)\n",
      "Requirement already satisfied: tornado>=6.1 in c:\\users\\13202\\anaconda3\\envs\\dev\\lib\\site-packages (from ipykernel>=4.5.1->ipywidgets>=7.6.5->shinywidgets) (6.2)\n",
      "Requirement already satisfied: backcall in c:\\users\\13202\\anaconda3\\envs\\dev\\lib\\site-packages (from ipython>=6.1.0->ipywidgets>=7.6.5->shinywidgets) (0.2.0)\n",
      "Requirement already satisfied: decorator in c:\\users\\13202\\anaconda3\\envs\\dev\\lib\\site-packages (from ipython>=6.1.0->ipywidgets>=7.6.5->shinywidgets) (5.1.1)\n",
      "Requirement already satisfied: jedi>=0.16 in c:\\users\\13202\\anaconda3\\envs\\dev\\lib\\site-packages (from ipython>=6.1.0->ipywidgets>=7.6.5->shinywidgets) (0.18.1)\n",
      "Requirement already satisfied: pickleshare in c:\\users\\13202\\anaconda3\\envs\\dev\\lib\\site-packages (from ipython>=6.1.0->ipywidgets>=7.6.5->shinywidgets) (0.7.5)\n",
      "Requirement already satisfied: prompt-toolkit!=3.0.37,<3.1.0,>=3.0.30 in c:\\users\\13202\\anaconda3\\envs\\dev\\lib\\site-packages (from ipython>=6.1.0->ipywidgets>=7.6.5->shinywidgets) (3.0.36)\n",
      "Requirement already satisfied: pygments>=2.4.0 in c:\\users\\13202\\anaconda3\\envs\\dev\\lib\\site-packages (from ipython>=6.1.0->ipywidgets>=7.6.5->shinywidgets) (2.15.1)\n",
      "Requirement already satisfied: stack-data in c:\\users\\13202\\anaconda3\\envs\\dev\\lib\\site-packages (from ipython>=6.1.0->ipywidgets>=7.6.5->shinywidgets) (0.2.0)\n",
      "Requirement already satisfied: uc-micro-py in c:\\users\\13202\\anaconda3\\envs\\dev\\lib\\site-packages (from linkify-it-py>=1.0->shiny>=0.6.1.9005->shinywidgets) (1.0.1)\n",
      "Requirement already satisfied: mdurl~=0.1 in c:\\users\\13202\\anaconda3\\envs\\dev\\lib\\site-packages (from markdown-it-py>=1.1.0->shiny>=0.6.1.9005->shinywidgets) (0.1.0)\n",
      "Requirement already satisfied: h11>=0.8 in c:\\users\\13202\\anaconda3\\envs\\dev\\lib\\site-packages (from uvicorn>=0.16.0->shiny>=0.6.1.9005->shinywidgets) (0.14.0)\n",
      "Requirement already satisfied: anyio>=3.0.0 in c:\\users\\13202\\anaconda3\\envs\\dev\\lib\\site-packages (from watchfiles>=0.18.0->shiny>=0.6.1.9005->shinywidgets) (3.5.0)\n",
      "Requirement already satisfied: idna>=2.8 in c:\\users\\13202\\anaconda3\\envs\\dev\\lib\\site-packages (from anyio>=3.0.0->watchfiles>=0.18.0->shiny>=0.6.1.9005->shinywidgets) (3.4)\n",
      "Requirement already satisfied: sniffio>=1.1 in c:\\users\\13202\\anaconda3\\envs\\dev\\lib\\site-packages (from anyio>=3.0.0->watchfiles>=0.18.0->shiny>=0.6.1.9005->shinywidgets) (1.2.0)\n",
      "Requirement already satisfied: parso<0.9.0,>=0.8.0 in c:\\users\\13202\\anaconda3\\envs\\dev\\lib\\site-packages (from jedi>=0.16->ipython>=6.1.0->ipywidgets>=7.6.5->shinywidgets) (0.8.3)\n",
      "Requirement already satisfied: entrypoints in c:\\users\\13202\\anaconda3\\envs\\dev\\lib\\site-packages (from jupyter-client>=6.1.12->ipykernel>=4.5.1->ipywidgets>=7.6.5->shinywidgets) (0.4)\n",
      "Requirement already satisfied: wcwidth in c:\\users\\13202\\anaconda3\\envs\\dev\\lib\\site-packages (from prompt-toolkit!=3.0.37,<3.1.0,>=3.0.30->ipython>=6.1.0->ipywidgets>=7.6.5->shinywidgets) (0.2.5)\n",
      "Requirement already satisfied: executing in c:\\users\\13202\\anaconda3\\envs\\dev\\lib\\site-packages (from stack-data->ipython>=6.1.0->ipywidgets>=7.6.5->shinywidgets) (0.8.3)\n",
      "Requirement already satisfied: asttokens in c:\\users\\13202\\anaconda3\\envs\\dev\\lib\\site-packages (from stack-data->ipython>=6.1.0->ipywidgets>=7.6.5->shinywidgets) (2.0.5)\n",
      "Requirement already satisfied: pure-eval in c:\\users\\13202\\anaconda3\\envs\\dev\\lib\\site-packages (from stack-data->ipython>=6.1.0->ipywidgets>=7.6.5->shinywidgets) (0.2.2)\n"
     ]
    }
   ],
   "source": [
    "%pip install shinywidgets"
   ]
  },
  {
   "cell_type": "code",
   "execution_count": 50,
   "metadata": {},
   "outputs": [
    {
     "name": "stdout",
     "output_type": "stream",
     "text": [
      "Requirement already satisfied: altair in c:\\users\\13202\\anaconda3\\envs\\dev\\lib\\site-packages (5.3.0)Note: you may need to restart the kernel to use updated packages.\n",
      "\n",
      "Requirement already satisfied: bokeh in c:\\users\\13202\\anaconda3\\envs\\dev\\lib\\site-packages (3.1.1)\n",
      "Requirement already satisfied: plotly in c:\\users\\13202\\anaconda3\\envs\\dev\\lib\\site-packages (5.9.0)\n",
      "Requirement already satisfied: pydeck in c:\\users\\13202\\anaconda3\\envs\\dev\\lib\\site-packages (0.9.1)\n",
      "Requirement already satisfied: ipyleaflet in c:\\users\\13202\\anaconda3\\envs\\dev\\lib\\site-packages (0.19.1)\n",
      "Requirement already satisfied: jinja2 in c:\\users\\13202\\anaconda3\\envs\\dev\\lib\\site-packages (from altair) (3.1.2)\n",
      "Requirement already satisfied: jsonschema>=3.0 in c:\\users\\13202\\anaconda3\\envs\\dev\\lib\\site-packages (from altair) (4.17.3)\n",
      "Requirement already satisfied: numpy in c:\\users\\13202\\anaconda3\\envs\\dev\\lib\\site-packages (from altair) (1.24.3)\n",
      "Requirement already satisfied: packaging in c:\\users\\13202\\anaconda3\\envs\\dev\\lib\\site-packages (from altair) (23.0)\n",
      "Requirement already satisfied: pandas>=0.25 in c:\\users\\13202\\anaconda3\\envs\\dev\\lib\\site-packages (from altair) (1.5.3)\n",
      "Requirement already satisfied: toolz in c:\\users\\13202\\anaconda3\\envs\\dev\\lib\\site-packages (from altair) (0.12.0)\n",
      "Requirement already satisfied: typing-extensions>=4.0.1 in c:\\users\\13202\\anaconda3\\envs\\dev\\lib\\site-packages (from altair) (4.6.3)\n",
      "Requirement already satisfied: contourpy>=1 in c:\\users\\13202\\anaconda3\\envs\\dev\\lib\\site-packages (from bokeh) (1.0.5)\n",
      "Requirement already satisfied: pillow>=7.1.0 in c:\\users\\13202\\anaconda3\\envs\\dev\\lib\\site-packages (from bokeh) (9.4.0)\n",
      "Requirement already satisfied: PyYAML>=3.10 in c:\\users\\13202\\anaconda3\\envs\\dev\\lib\\site-packages (from bokeh) (6.0)\n",
      "Requirement already satisfied: tornado>=5.1 in c:\\users\\13202\\anaconda3\\envs\\dev\\lib\\site-packages (from bokeh) (6.2)\n",
      "Requirement already satisfied: xyzservices>=2021.09.1 in c:\\users\\13202\\anaconda3\\envs\\dev\\lib\\site-packages (from bokeh) (2022.9.0)\n",
      "Requirement already satisfied: tenacity>=6.2.0 in c:\\users\\13202\\anaconda3\\envs\\dev\\lib\\site-packages (from plotly) (8.2.2)\n",
      "Requirement already satisfied: branca>=0.5.0 in c:\\users\\13202\\anaconda3\\envs\\dev\\lib\\site-packages (from ipyleaflet) (0.7.2)\n",
      "Requirement already satisfied: ipywidgets<9,>=7.6.0 in c:\\users\\13202\\anaconda3\\envs\\dev\\lib\\site-packages (from ipyleaflet) (8.0.4)\n",
      "Requirement already satisfied: jupyter-leaflet<0.20,>=0.19 in c:\\users\\13202\\anaconda3\\envs\\dev\\lib\\site-packages (from ipyleaflet) (0.19.1)\n",
      "Requirement already satisfied: traittypes<3,>=0.2.1 in c:\\users\\13202\\anaconda3\\envs\\dev\\lib\\site-packages (from ipyleaflet) (0.2.1)\n",
      "Requirement already satisfied: ipykernel>=4.5.1 in c:\\users\\13202\\anaconda3\\envs\\dev\\lib\\site-packages (from ipywidgets<9,>=7.6.0->ipyleaflet) (6.19.2)\n",
      "Requirement already satisfied: ipython>=6.1.0 in c:\\users\\13202\\anaconda3\\envs\\dev\\lib\\site-packages (from ipywidgets<9,>=7.6.0->ipyleaflet) (8.12.0)\n",
      "Requirement already satisfied: traitlets>=4.3.1 in c:\\users\\13202\\anaconda3\\envs\\dev\\lib\\site-packages (from ipywidgets<9,>=7.6.0->ipyleaflet) (5.7.1)\n",
      "Requirement already satisfied: widgetsnbextension~=4.0 in c:\\users\\13202\\anaconda3\\envs\\dev\\lib\\site-packages (from ipywidgets<9,>=7.6.0->ipyleaflet) (4.0.5)\n",
      "Requirement already satisfied: jupyterlab-widgets~=3.0 in c:\\users\\13202\\anaconda3\\envs\\dev\\lib\\site-packages (from ipywidgets<9,>=7.6.0->ipyleaflet) (3.0.5)\n",
      "Requirement already satisfied: MarkupSafe>=2.0 in c:\\users\\13202\\anaconda3\\envs\\dev\\lib\\site-packages (from jinja2->altair) (2.1.1)\n",
      "Requirement already satisfied: attrs>=17.4.0 in c:\\users\\13202\\anaconda3\\envs\\dev\\lib\\site-packages (from jsonschema>=3.0->altair) (22.1.0)\n",
      "Requirement already satisfied: pyrsistent!=0.17.0,!=0.17.1,!=0.17.2,>=0.14.0 in c:\\users\\13202\\anaconda3\\envs\\dev\\lib\\site-packages (from jsonschema>=3.0->altair) (0.18.0)\n",
      "Requirement already satisfied: python-dateutil>=2.8.1 in c:\\users\\13202\\anaconda3\\envs\\dev\\lib\\site-packages (from pandas>=0.25->altair) (2.8.2)\n",
      "Requirement already satisfied: pytz>=2020.1 in c:\\users\\13202\\anaconda3\\envs\\dev\\lib\\site-packages (from pandas>=0.25->altair) (2022.7)\n",
      "Requirement already satisfied: comm>=0.1.1 in c:\\users\\13202\\anaconda3\\envs\\dev\\lib\\site-packages (from ipykernel>=4.5.1->ipywidgets<9,>=7.6.0->ipyleaflet) (0.1.2)\n",
      "Requirement already satisfied: debugpy>=1.0 in c:\\users\\13202\\anaconda3\\envs\\dev\\lib\\site-packages (from ipykernel>=4.5.1->ipywidgets<9,>=7.6.0->ipyleaflet) (1.5.1)\n",
      "Requirement already satisfied: jupyter-client>=6.1.12 in c:\\users\\13202\\anaconda3\\envs\\dev\\lib\\site-packages (from ipykernel>=4.5.1->ipywidgets<9,>=7.6.0->ipyleaflet) (7.4.9)\n",
      "Requirement already satisfied: matplotlib-inline>=0.1 in c:\\users\\13202\\anaconda3\\envs\\dev\\lib\\site-packages (from ipykernel>=4.5.1->ipywidgets<9,>=7.6.0->ipyleaflet) (0.1.6)\n",
      "Requirement already satisfied: nest-asyncio in c:\\users\\13202\\anaconda3\\envs\\dev\\lib\\site-packages (from ipykernel>=4.5.1->ipywidgets<9,>=7.6.0->ipyleaflet) (1.5.6)\n",
      "Requirement already satisfied: psutil in c:\\users\\13202\\anaconda3\\envs\\dev\\lib\\site-packages (from ipykernel>=4.5.1->ipywidgets<9,>=7.6.0->ipyleaflet) (5.9.0)\n",
      "Requirement already satisfied: pyzmq>=17 in c:\\users\\13202\\anaconda3\\envs\\dev\\lib\\site-packages (from ipykernel>=4.5.1->ipywidgets<9,>=7.6.0->ipyleaflet) (23.2.0)\n",
      "Requirement already satisfied: backcall in c:\\users\\13202\\anaconda3\\envs\\dev\\lib\\site-packages (from ipython>=6.1.0->ipywidgets<9,>=7.6.0->ipyleaflet) (0.2.0)\n",
      "Requirement already satisfied: decorator in c:\\users\\13202\\anaconda3\\envs\\dev\\lib\\site-packages (from ipython>=6.1.0->ipywidgets<9,>=7.6.0->ipyleaflet) (5.1.1)\n",
      "Requirement already satisfied: jedi>=0.16 in c:\\users\\13202\\anaconda3\\envs\\dev\\lib\\site-packages (from ipython>=6.1.0->ipywidgets<9,>=7.6.0->ipyleaflet) (0.18.1)\n",
      "Requirement already satisfied: pickleshare in c:\\users\\13202\\anaconda3\\envs\\dev\\lib\\site-packages (from ipython>=6.1.0->ipywidgets<9,>=7.6.0->ipyleaflet) (0.7.5)\n",
      "Requirement already satisfied: prompt-toolkit!=3.0.37,<3.1.0,>=3.0.30 in c:\\users\\13202\\anaconda3\\envs\\dev\\lib\\site-packages (from ipython>=6.1.0->ipywidgets<9,>=7.6.0->ipyleaflet) (3.0.36)\n",
      "Requirement already satisfied: pygments>=2.4.0 in c:\\users\\13202\\anaconda3\\envs\\dev\\lib\\site-packages (from ipython>=6.1.0->ipywidgets<9,>=7.6.0->ipyleaflet) (2.15.1)\n",
      "Requirement already satisfied: stack-data in c:\\users\\13202\\anaconda3\\envs\\dev\\lib\\site-packages (from ipython>=6.1.0->ipywidgets<9,>=7.6.0->ipyleaflet) (0.2.0)\n",
      "Requirement already satisfied: colorama in c:\\users\\13202\\anaconda3\\envs\\dev\\lib\\site-packages (from ipython>=6.1.0->ipywidgets<9,>=7.6.0->ipyleaflet) (0.4.6)\n",
      "Requirement already satisfied: six>=1.5 in c:\\users\\13202\\anaconda3\\envs\\dev\\lib\\site-packages (from python-dateutil>=2.8.1->pandas>=0.25->altair) (1.16.0)\n",
      "Requirement already satisfied: parso<0.9.0,>=0.8.0 in c:\\users\\13202\\anaconda3\\envs\\dev\\lib\\site-packages (from jedi>=0.16->ipython>=6.1.0->ipywidgets<9,>=7.6.0->ipyleaflet) (0.8.3)\n",
      "Requirement already satisfied: entrypoints in c:\\users\\13202\\anaconda3\\envs\\dev\\lib\\site-packages (from jupyter-client>=6.1.12->ipykernel>=4.5.1->ipywidgets<9,>=7.6.0->ipyleaflet) (0.4)\n",
      "Requirement already satisfied: jupyter-core>=4.9.2 in c:\\users\\13202\\anaconda3\\envs\\dev\\lib\\site-packages (from jupyter-client>=6.1.12->ipykernel>=4.5.1->ipywidgets<9,>=7.6.0->ipyleaflet) (5.3.0)\n",
      "Requirement already satisfied: wcwidth in c:\\users\\13202\\anaconda3\\envs\\dev\\lib\\site-packages (from prompt-toolkit!=3.0.37,<3.1.0,>=3.0.30->ipython>=6.1.0->ipywidgets<9,>=7.6.0->ipyleaflet) (0.2.5)\n",
      "Requirement already satisfied: executing in c:\\users\\13202\\anaconda3\\envs\\dev\\lib\\site-packages (from stack-data->ipython>=6.1.0->ipywidgets<9,>=7.6.0->ipyleaflet) (0.8.3)\n",
      "Requirement already satisfied: asttokens in c:\\users\\13202\\anaconda3\\envs\\dev\\lib\\site-packages (from stack-data->ipython>=6.1.0->ipywidgets<9,>=7.6.0->ipyleaflet) (2.0.5)\n",
      "Requirement already satisfied: pure-eval in c:\\users\\13202\\anaconda3\\envs\\dev\\lib\\site-packages (from stack-data->ipython>=6.1.0->ipywidgets<9,>=7.6.0->ipyleaflet) (0.2.2)\n",
      "Requirement already satisfied: platformdirs>=2.5 in c:\\users\\13202\\anaconda3\\envs\\dev\\lib\\site-packages (from jupyter-core>=4.9.2->jupyter-client>=6.1.12->ipykernel>=4.5.1->ipywidgets<9,>=7.6.0->ipyleaflet) (2.5.2)\n",
      "Requirement already satisfied: pywin32>=300 in c:\\users\\13202\\anaconda3\\envs\\dev\\lib\\site-packages (from jupyter-core>=4.9.2->jupyter-client>=6.1.12->ipykernel>=4.5.1->ipywidgets<9,>=7.6.0->ipyleaflet) (305.1)\n"
     ]
    }
   ],
   "source": [
    "%pip install altair bokeh plotly pydeck ipyleaflet"
   ]
  },
  {
   "cell_type": "code",
   "execution_count": 56,
   "metadata": {},
   "outputs": [
    {
     "name": "stdout",
     "output_type": "stream",
     "text": [
      "Note: you may need to restart the kernel to use updated packages.\n"
     ]
    },
    {
     "name": "stderr",
     "output_type": "stream",
     "text": [
      "ERROR: Could not open requirements file: [Errno 2] No such file or directory: 'requirements.txt'\n"
     ]
    }
   ],
   "source": [
    "%pip install -r requirements.txt"
   ]
  },
  {
   "cell_type": "code",
   "execution_count": 51,
   "metadata": {},
   "outputs": [],
   "source": [
    "# import dependencies\n",
    "from shiny import *\n",
    "import pandas as pd\n",
    "from pathlib import Path\n",
    "from shiny.express import input, ui\n",
    "from shinywidgets import render_widget\n",
    "import ipyleaflet as ipyl\n",
    "from ipyleaflet import Map\n"
   ]
  },
  {
   "cell_type": "code",
   "execution_count": 57,
   "metadata": {},
   "outputs": [],
   "source": [
    "# create path\n",
    "bike_data_to_load = Path(\"../resources/citibike_trips.csv\")\n"
   ]
  },
  {
   "cell_type": "code",
   "execution_count": 58,
   "metadata": {},
   "outputs": [
    {
     "name": "stderr",
     "output_type": "stream",
     "text": [
      "C:\\Users\\13202\\AppData\\Local\\Temp\\ipykernel_28468\\3076400802.py:2: DtypeWarning: Columns (7) have mixed types. Specify dtype option on import or set low_memory=False.\n",
      "  bike_path_df = pd.read_csv(bike_data_to_load)\n"
     ]
    },
    {
     "data": {
      "text/html": [
       "<div>\n",
       "<style scoped>\n",
       "    .dataframe tbody tr th:only-of-type {\n",
       "        vertical-align: middle;\n",
       "    }\n",
       "\n",
       "    .dataframe tbody tr th {\n",
       "        vertical-align: top;\n",
       "    }\n",
       "\n",
       "    .dataframe thead th {\n",
       "        text-align: right;\n",
       "    }\n",
       "</style>\n",
       "<table border=\"1\" class=\"dataframe\">\n",
       "  <thead>\n",
       "    <tr style=\"text-align: right;\">\n",
       "      <th></th>\n",
       "      <th>ride_id</th>\n",
       "      <th>rideable_type</th>\n",
       "      <th>started_at</th>\n",
       "      <th>ended_at</th>\n",
       "      <th>start_station_name</th>\n",
       "      <th>start_station_id</th>\n",
       "      <th>end_station_name</th>\n",
       "      <th>end_station_id</th>\n",
       "      <th>start_lat</th>\n",
       "      <th>start_lng</th>\n",
       "      <th>end_lat</th>\n",
       "      <th>end_lng</th>\n",
       "      <th>member_casual</th>\n",
       "    </tr>\n",
       "  </thead>\n",
       "  <tbody>\n",
       "    <tr>\n",
       "      <th>0</th>\n",
       "      <td>CC2736821750A11C</td>\n",
       "      <td>electric_bike</td>\n",
       "      <td>2024-02-24 19:46:21</td>\n",
       "      <td>2024-02-24 20:18:02</td>\n",
       "      <td>E 2 St &amp; Ave C</td>\n",
       "      <td>5476.03</td>\n",
       "      <td>Clermont Ave &amp; Lafayette Ave</td>\n",
       "      <td>4461.01</td>\n",
       "      <td>40.720803</td>\n",
       "      <td>-73.980605</td>\n",
       "      <td>40.687645</td>\n",
       "      <td>-73.969689</td>\n",
       "      <td>casual</td>\n",
       "    </tr>\n",
       "    <tr>\n",
       "      <th>1</th>\n",
       "      <td>790630A9CDADD072</td>\n",
       "      <td>electric_bike</td>\n",
       "      <td>2024-02-09 10:41:27</td>\n",
       "      <td>2024-02-09 10:44:35</td>\n",
       "      <td>5 Ave &amp; E 78 St</td>\n",
       "      <td>7161.08</td>\n",
       "      <td>E 72 St &amp; Park Ave</td>\n",
       "      <td>6998.08</td>\n",
       "      <td>40.776502</td>\n",
       "      <td>-73.964334</td>\n",
       "      <td>40.771183</td>\n",
       "      <td>-73.964094</td>\n",
       "      <td>casual</td>\n",
       "    </tr>\n",
       "    <tr>\n",
       "      <th>2</th>\n",
       "      <td>A0C77469DBD8083A</td>\n",
       "      <td>electric_bike</td>\n",
       "      <td>2024-02-04 16:38:31</td>\n",
       "      <td>2024-02-04 17:00:27</td>\n",
       "      <td>Grand Army Plaza &amp; Central Park S</td>\n",
       "      <td>6839.10</td>\n",
       "      <td>W 111 St &amp; 5 Ave</td>\n",
       "      <td>7587.16</td>\n",
       "      <td>40.764409</td>\n",
       "      <td>-73.973671</td>\n",
       "      <td>40.797521</td>\n",
       "      <td>-73.948940</td>\n",
       "      <td>casual</td>\n",
       "    </tr>\n",
       "    <tr>\n",
       "      <th>3</th>\n",
       "      <td>C341D60E30EF8DF0</td>\n",
       "      <td>electric_bike</td>\n",
       "      <td>2024-02-01 18:30:06</td>\n",
       "      <td>2024-02-01 18:41:43</td>\n",
       "      <td>3 St &amp; Prospect Park West</td>\n",
       "      <td>3865.05</td>\n",
       "      <td>Caton Ave &amp; Bedford Ave</td>\n",
       "      <td>3368.04</td>\n",
       "      <td>40.668139</td>\n",
       "      <td>-73.973526</td>\n",
       "      <td>40.652370</td>\n",
       "      <td>-73.956230</td>\n",
       "      <td>casual</td>\n",
       "    </tr>\n",
       "    <tr>\n",
       "      <th>4</th>\n",
       "      <td>D43FC105AF90DB83</td>\n",
       "      <td>classic_bike</td>\n",
       "      <td>2024-02-21 08:43:03</td>\n",
       "      <td>2024-02-21 08:51:13</td>\n",
       "      <td>5 Ave &amp; E 78 St</td>\n",
       "      <td>7161.08</td>\n",
       "      <td>Broadway &amp; W 61 St</td>\n",
       "      <td>7014.12</td>\n",
       "      <td>40.776321</td>\n",
       "      <td>-73.964274</td>\n",
       "      <td>40.770030</td>\n",
       "      <td>-73.981968</td>\n",
       "      <td>member</td>\n",
       "    </tr>\n",
       "  </tbody>\n",
       "</table>\n",
       "</div>"
      ],
      "text/plain": [
       "            ride_id  rideable_type           started_at             ended_at  \\\n",
       "0  CC2736821750A11C  electric_bike  2024-02-24 19:46:21  2024-02-24 20:18:02   \n",
       "1  790630A9CDADD072  electric_bike  2024-02-09 10:41:27  2024-02-09 10:44:35   \n",
       "2  A0C77469DBD8083A  electric_bike  2024-02-04 16:38:31  2024-02-04 17:00:27   \n",
       "3  C341D60E30EF8DF0  electric_bike  2024-02-01 18:30:06  2024-02-01 18:41:43   \n",
       "4  D43FC105AF90DB83   classic_bike  2024-02-21 08:43:03  2024-02-21 08:51:13   \n",
       "\n",
       "                  start_station_name start_station_id  \\\n",
       "0                     E 2 St & Ave C          5476.03   \n",
       "1                    5 Ave & E 78 St          7161.08   \n",
       "2  Grand Army Plaza & Central Park S          6839.10   \n",
       "3          3 St & Prospect Park West          3865.05   \n",
       "4                    5 Ave & E 78 St          7161.08   \n",
       "\n",
       "               end_station_name end_station_id  start_lat  start_lng  \\\n",
       "0  Clermont Ave & Lafayette Ave        4461.01  40.720803 -73.980605   \n",
       "1            E 72 St & Park Ave        6998.08  40.776502 -73.964334   \n",
       "2              W 111 St & 5 Ave        7587.16  40.764409 -73.973671   \n",
       "3       Caton Ave & Bedford Ave        3368.04  40.668139 -73.973526   \n",
       "4            Broadway & W 61 St        7014.12  40.776321 -73.964274   \n",
       "\n",
       "     end_lat    end_lng member_casual  \n",
       "0  40.687645 -73.969689        casual  \n",
       "1  40.771183 -73.964094        casual  \n",
       "2  40.797521 -73.948940        casual  \n",
       "3  40.652370 -73.956230        casual  \n",
       "4  40.770030 -73.981968        member  "
      ]
     },
     "execution_count": 58,
     "metadata": {},
     "output_type": "execute_result"
    }
   ],
   "source": [
    "# read in file \n",
    "bike_path_df = pd.read_csv(bike_data_to_load)\n",
    "bike_path_df.head()"
   ]
  },
  {
   "cell_type": "code",
   "execution_count": 59,
   "metadata": {},
   "outputs": [],
   "source": [
    "bike_stations = {\n",
    "    \"Grand Army Plaza & Central Park S\t\": (40.764409, -73.973671),\n",
    "    \"3 St & Prospect Park West\": (40.668139, -73.973526),\n",
    "    \"5 Ave & E 78 St\": (40.776321, -73.964274)\n",
    "}\n"
   ]
  },
  {
   "cell_type": "code",
   "execution_count": 60,
   "metadata": {},
   "outputs": [
    {
     "data": {
      "text/html": [
       "<div class=\"form-group shiny-input-container\">\n",
       "  <label class=\"control-label\" id=\"center-label\" for=\"center\">Center</label>\n",
       "  <div>\n",
       "    <select class=\"shiny-input-select form-select\" id=\"center\">      <option value=\"Grand Army Plaza &amp; Central Park S\t\" selected=\"\">Grand Army Plaza &amp; Central Park S\t</option>\n",
       "      <option value=\"3 St &amp; Prospect Park West\">3 St &amp; Prospect Park West</option>\n",
       "      <option value=\"5 Ave &amp; E 78 St\">5 Ave &amp; E 78 St</option></select>\n",
       "  </div>\n",
       "</div>"
      ],
      "text/plain": [
       "<div class=\"form-group shiny-input-container\">\n",
       "  <label class=\"control-label\" id=\"center-label\" for=\"center\">Center</label>\n",
       "  <div>\n",
       "    <select class=\"shiny-input-select form-select\" id=\"center\">      <option value=\"Grand Army Plaza &amp; Central Park S\t\" selected=\"\">Grand Army Plaza &amp; Central Park S\t</option>\n",
       "      <option value=\"3 St &amp; Prospect Park West\">3 St &amp; Prospect Park West</option>\n",
       "      <option value=\"5 Ave &amp; E 78 St\">5 Ave &amp; E 78 St</option></select>\n",
       "  </div>\n",
       "</div>"
      ]
     },
     "execution_count": 60,
     "metadata": {},
     "output_type": "execute_result"
    }
   ],
   "source": [
    "ui.input_select(\"center\", \"Center\", choices=list(bike_stations.keys()))"
   ]
  },
  {
   "cell_type": "code",
   "execution_count": 62,
   "metadata": {},
   "outputs": [],
   "source": [
    "@render_widget\n",
    "def map():\n",
    "    return ipyl.Map(zoom=4)\n",
    "\n",
    "@reactive.effect\n",
    "def _():\n",
    "    map.widget.center = bike_stations[input.center()]"
   ]
  }
 ],
 "metadata": {
  "kernelspec": {
   "display_name": "dev",
   "language": "python",
   "name": "python3"
  },
  "language_info": {
   "codemirror_mode": {
    "name": "ipython",
    "version": 3
   },
   "file_extension": ".py",
   "mimetype": "text/x-python",
   "name": "python",
   "nbconvert_exporter": "python",
   "pygments_lexer": "ipython3",
   "version": "3.10.12"
  }
 },
 "nbformat": 4,
 "nbformat_minor": 2
}
